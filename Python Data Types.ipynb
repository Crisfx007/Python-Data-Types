{
 "cells": [
  {
   "cell_type": "code",
   "execution_count": 1,
   "id": "d02df9d5-9f69-4676-8c02-94a1ed069f12",
   "metadata": {},
   "outputs": [
    {
     "data": {
      "text/plain": [
       "1"
      ]
     },
     "execution_count": 1,
     "metadata": {},
     "output_type": "execute_result"
    }
   ],
   "source": [
    "1"
   ]
  },
  {
   "cell_type": "code",
   "execution_count": 2,
   "id": "4258fc8e-d03a-4f7f-9fc0-a2721d9d95b9",
   "metadata": {},
   "outputs": [
    {
     "data": {
      "text/plain": [
       "1.0"
      ]
     },
     "execution_count": 2,
     "metadata": {},
     "output_type": "execute_result"
    }
   ],
   "source": [
    "1.0"
   ]
  },
  {
   "cell_type": "code",
   "execution_count": 3,
   "id": "fcf95030-e404-4304-a156-8a60ae816936",
   "metadata": {},
   "outputs": [
    {
     "data": {
      "text/plain": [
       "3"
      ]
     },
     "execution_count": 3,
     "metadata": {},
     "output_type": "execute_result"
    }
   ],
   "source": [
    "1*3"
   ]
  },
  {
   "cell_type": "code",
   "execution_count": 4,
   "id": "e22c5d24-4d4a-4276-8d7b-f7920900c431",
   "metadata": {},
   "outputs": [
    {
     "data": {
      "text/plain": [
       "0.5"
      ]
     },
     "execution_count": 4,
     "metadata": {},
     "output_type": "execute_result"
    }
   ],
   "source": [
    "1/2"
   ]
  },
  {
   "cell_type": "code",
   "execution_count": 5,
   "id": "6d22d09c-5bed-4775-813c-c348ef6d5298",
   "metadata": {},
   "outputs": [
    {
     "data": {
      "text/plain": [
       "0.5"
      ]
     },
     "execution_count": 5,
     "metadata": {},
     "output_type": "execute_result"
    }
   ],
   "source": [
    "1/2.0 #for python 2.0"
   ]
  },
  {
   "cell_type": "code",
   "execution_count": 6,
   "id": "ac751952-c284-489d-881f-9ba311fb14ee",
   "metadata": {},
   "outputs": [
    {
     "data": {
      "text/plain": [
       "16"
      ]
     },
     "execution_count": 6,
     "metadata": {},
     "output_type": "execute_result"
    }
   ],
   "source": [
    "2**4"
   ]
  },
  {
   "cell_type": "code",
   "execution_count": 7,
   "id": "38c182fd-5b0f-491a-8f6b-45a278c15d0b",
   "metadata": {},
   "outputs": [
    {
     "data": {
      "text/plain": [
       "22"
      ]
     },
     "execution_count": 7,
     "metadata": {},
     "output_type": "execute_result"
    }
   ],
   "source": [
    "2+3*5+5"
   ]
  },
  {
   "cell_type": "code",
   "execution_count": 8,
   "id": "0709131a-ac9d-4322-a2bf-5e8ea64f82c8",
   "metadata": {},
   "outputs": [
    {
     "data": {
      "text/plain": [
       "50"
      ]
     },
     "execution_count": 8,
     "metadata": {},
     "output_type": "execute_result"
    }
   ],
   "source": [
    "(2+3)*(5+5)"
   ]
  },
  {
   "cell_type": "code",
   "execution_count": 9,
   "id": "7e20a227-5acc-4f24-91b2-47577f47bbf3",
   "metadata": {},
   "outputs": [
    {
     "data": {
      "text/plain": [
       "1"
      ]
     },
     "execution_count": 9,
     "metadata": {},
     "output_type": "execute_result"
    }
   ],
   "source": [
    "4%3"
   ]
  },
  {
   "cell_type": "code",
   "execution_count": 10,
   "id": "45fb990f-a12a-4e46-8da8-49617ddaede5",
   "metadata": {},
   "outputs": [
    {
     "data": {
      "text/plain": [
       "0"
      ]
     },
     "execution_count": 10,
     "metadata": {},
     "output_type": "execute_result"
    }
   ],
   "source": [
    "4%2"
   ]
  },
  {
   "cell_type": "code",
   "execution_count": 11,
   "id": "27cc69fe-db63-46b2-ae96-6baa2ac38bac",
   "metadata": {},
   "outputs": [],
   "source": [
    "var = 2"
   ]
  },
  {
   "cell_type": "code",
   "execution_count": 12,
   "id": "8c6f3dd0-cada-4b30-903b-9e28543fd6f5",
   "metadata": {},
   "outputs": [
    {
     "data": {
      "text/plain": [
       "2"
      ]
     },
     "execution_count": 12,
     "metadata": {},
     "output_type": "execute_result"
    }
   ],
   "source": [
    "var"
   ]
  },
  {
   "cell_type": "code",
   "execution_count": 13,
   "id": "1e92121c-b494-4a19-a84b-a78aa33b00ec",
   "metadata": {},
   "outputs": [
    {
     "data": {
      "text/plain": [
       "2"
      ]
     },
     "execution_count": 13,
     "metadata": {},
     "output_type": "execute_result"
    }
   ],
   "source": [
    "x =2\n",
    "x"
   ]
  },
  {
   "cell_type": "code",
   "execution_count": 14,
   "id": "9479386c-7df0-4cdc-a55e-1da40c2aac55",
   "metadata": {},
   "outputs": [],
   "source": [
    "x=2\n",
    "y=3"
   ]
  },
  {
   "cell_type": "code",
   "execution_count": 15,
   "id": "d402fb75-b4fd-45ff-aa72-72955ecbda71",
   "metadata": {},
   "outputs": [
    {
     "data": {
      "text/plain": [
       "5"
      ]
     },
     "execution_count": 15,
     "metadata": {},
     "output_type": "execute_result"
    }
   ],
   "source": [
    "x+y"
   ]
  },
  {
   "cell_type": "code",
   "execution_count": 16,
   "id": "230dc29f-9bf8-4fb1-a0e8-6f657ec1a4c7",
   "metadata": {},
   "outputs": [],
   "source": [
    "x = x+x"
   ]
  },
  {
   "cell_type": "code",
   "execution_count": 17,
   "id": "8e6c3c8f-215a-4bd5-869d-d735b0fd7731",
   "metadata": {},
   "outputs": [
    {
     "data": {
      "text/plain": [
       "4"
      ]
     },
     "execution_count": 17,
     "metadata": {},
     "output_type": "execute_result"
    }
   ],
   "source": [
    "x"
   ]
  },
  {
   "cell_type": "code",
   "execution_count": 18,
   "id": "615c9340-548a-45bd-a75d-072cd6cf3ec2",
   "metadata": {},
   "outputs": [
    {
     "data": {
      "text/plain": [
       "8"
      ]
     },
     "execution_count": 18,
     "metadata": {},
     "output_type": "execute_result"
    }
   ],
   "source": [
    "x = x+x\n",
    "x"
   ]
  },
  {
   "cell_type": "code",
   "execution_count": 19,
   "id": "f8493079-559c-4430-b0d7-b8a0ebd2aeb6",
   "metadata": {},
   "outputs": [
    {
     "data": {
      "text/plain": [
       "8"
      ]
     },
     "execution_count": 19,
     "metadata": {},
     "output_type": "execute_result"
    }
   ],
   "source": [
    "x"
   ]
  },
  {
   "cell_type": "code",
   "execution_count": 20,
   "id": "ec014d11-2f2a-44a4-9b06-2659e7c55cf2",
   "metadata": {},
   "outputs": [
    {
     "ename": "SyntaxError",
     "evalue": "invalid decimal literal (273375970.py, line 1)",
     "output_type": "error",
     "traceback": [
      "\u001b[1;36m  Cell \u001b[1;32mIn[20], line 1\u001b[1;36m\u001b[0m\n\u001b[1;33m    12var\u001b[0m\n\u001b[1;37m     ^\u001b[0m\n\u001b[1;31mSyntaxError\u001b[0m\u001b[1;31m:\u001b[0m invalid decimal literal\n"
     ]
    }
   ],
   "source": [
    "12var"
   ]
  },
  {
   "cell_type": "code",
   "execution_count": null,
   "id": "bb37c40b-f675-4b5a-82a0-a660fc9c3ce1",
   "metadata": {},
   "outputs": [],
   "source": [
    "12var=12"
   ]
  },
  {
   "cell_type": "code",
   "execution_count": null,
   "id": "2ba65218-b054-41f0-a22b-325cc1a9e507",
   "metadata": {},
   "outputs": [],
   "source": [
    "# Strings"
   ]
  },
  {
   "cell_type": "code",
   "execution_count": null,
   "id": "a546d570-6da0-42cc-b0d3-cef1117cc421",
   "metadata": {},
   "outputs": [],
   "source": [
    "' Single Quote'"
   ]
  },
  {
   "cell_type": "code",
   "execution_count": null,
   "id": "f1e2f4bb-2a8f-4e84-b05a-7130d5c82ec3",
   "metadata": {},
   "outputs": [],
   "source": [
    "\" this is a strein\""
   ]
  },
  {
   "cell_type": "code",
   "execution_count": null,
   "id": "614e179b-2c5d-4576-b6a0-c7de7be32010",
   "metadata": {},
   "outputs": [],
   "source": [
    "\"i cant't go \""
   ]
  },
  {
   "cell_type": "code",
   "execution_count": null,
   "id": "482a5452-cc38-43c9-98f3-929ac3bd9f73",
   "metadata": {},
   "outputs": [],
   "source": [
    "x = 'hello'\n",
    "x"
   ]
  },
  {
   "cell_type": "code",
   "execution_count": null,
   "id": "362619db-6d7c-490c-a897-c3e0fe978194",
   "metadata": {},
   "outputs": [],
   "source": [
    "print(x)"
   ]
  },
  {
   "cell_type": "code",
   "execution_count": null,
   "id": "def380f5-7c15-47c9-a484-84b300d4b782",
   "metadata": {},
   "outputs": [],
   "source": [
    "print('hello')"
   ]
  },
  {
   "cell_type": "code",
   "execution_count": null,
   "id": "817f3cc2-9e4e-4a12-8696-2d71bc47adaf",
   "metadata": {},
   "outputs": [],
   "source": [
    "print(\"hello\")"
   ]
  },
  {
   "cell_type": "code",
   "execution_count": null,
   "id": "510fb667-3f47-400f-947c-ad397352f6ae",
   "metadata": {},
   "outputs": [],
   "source": [
    "num = 12\n",
    "name = 'sam'"
   ]
  },
  {
   "cell_type": "code",
   "execution_count": null,
   "id": "588f452f-fdc8-4b47-b298-bea6a1ed3602",
   "metadata": {},
   "outputs": [],
   "source": [
    "\"My number is {} and my name is {}\".format(num,name)"
   ]
  },
  {
   "cell_type": "code",
   "execution_count": null,
   "id": "c25374d0-6921-44d0-a20c-83406b9ffd47",
   "metadata": {},
   "outputs": [],
   "source": [
    "print(\"My number is {} and my name is {}\".format(num,name))"
   ]
  },
  {
   "cell_type": "code",
   "execution_count": null,
   "id": "5660ddb7-c769-4916-b814-d53caa0f5269",
   "metadata": {},
   "outputs": [],
   "source": [
    "\"My number is {one} and my name is {two}\".format(one=num,two=name)"
   ]
  },
  {
   "cell_type": "code",
   "execution_count": null,
   "id": "9f07d129-da5d-4939-b633-ea957f7887f7",
   "metadata": {},
   "outputs": [],
   "source": [
    "\"My number is {one} and my name is {two} more{one}\".format(one=num,two=name)"
   ]
  },
  {
   "cell_type": "code",
   "execution_count": null,
   "id": "07931966-9d04-4ce4-a129-e9b107121a8d",
   "metadata": {},
   "outputs": [],
   "source": [
    "s = 'hello'\n",
    "s[0]"
   ]
  },
  {
   "cell_type": "code",
   "execution_count": null,
   "id": "a3007d0e-a650-4f41-a01a-550ff6a9e06f",
   "metadata": {},
   "outputs": [],
   "source": [
    "s[1]"
   ]
  },
  {
   "cell_type": "code",
   "execution_count": null,
   "id": "9c2954aa-7670-4bf1-9b0c-6e8860d08558",
   "metadata": {},
   "outputs": [],
   "source": [
    "s[0:]"
   ]
  },
  {
   "cell_type": "code",
   "execution_count": null,
   "id": "d81e0ae4-7c65-44e4-90aa-38729081f3e7",
   "metadata": {},
   "outputs": [],
   "source": [
    "s[1:]"
   ]
  },
  {
   "cell_type": "code",
   "execution_count": null,
   "id": "28dee807-5203-441c-8429-dcb30170f436",
   "metadata": {},
   "outputs": [],
   "source": [
    "[1,2,3]"
   ]
  },
  {
   "cell_type": "code",
   "execution_count": null,
   "id": "7a3cba00-7102-409c-8361-ca735f1cdb9e",
   "metadata": {},
   "outputs": [],
   "source": [
    "['a','b','c']"
   ]
  },
  {
   "cell_type": "code",
   "execution_count": null,
   "id": "de597f98-21c9-4bc2-914a-a0d4de24ced9",
   "metadata": {},
   "outputs": [],
   "source": [
    "my_list = ['a','b','c']\n",
    "my_list.append('d')\n",
    "my_list"
   ]
  },
  {
   "cell_type": "code",
   "execution_count": null,
   "id": "fdd290de-57ac-4f06-94d1-4c4c3dc54aa2",
   "metadata": {},
   "outputs": [],
   "source": [
    "my_list[0]"
   ]
  },
  {
   "cell_type": "code",
   "execution_count": null,
   "id": "eaac40f3-abbc-4b42-b69a-5ec7b716028a",
   "metadata": {},
   "outputs": [],
   "source": [
    "my_list[0:2]"
   ]
  },
  {
   "cell_type": "code",
   "execution_count": null,
   "id": "6943fc9d-17c6-4666-a629-d2887c211a5e",
   "metadata": {},
   "outputs": [],
   "source": [
    "my_list[0] = 'e'\n",
    "my_list"
   ]
  },
  {
   "cell_type": "code",
   "execution_count": null,
   "id": "eaccc60f-d36f-4498-bdea-3965dca8512a",
   "metadata": {},
   "outputs": [],
   "source": [
    "nes_list = [my_list, [2,3]]\n",
    "nes_list"
   ]
  },
  {
   "cell_type": "code",
   "execution_count": null,
   "id": "340e1980-8616-4438-a09c-a9f3e8d882b2",
   "metadata": {},
   "outputs": [],
   "source": [
    "nes_list[1]"
   ]
  },
  {
   "cell_type": "code",
   "execution_count": null,
   "id": "22b597e1-8921-46bd-bad2-4e95a35acdd3",
   "metadata": {},
   "outputs": [],
   "source": [
    "nes_list[1][0]"
   ]
  },
  {
   "cell_type": "markdown",
   "id": "a822f883-c7d4-40b6-9ee3-7909991469ca",
   "metadata": {},
   "source": [
    "### Dictionaries"
   ]
  },
  {
   "cell_type": "code",
   "execution_count": null,
   "id": "c288dd6a-75f4-4318-bc4c-6a5db471d05f",
   "metadata": {},
   "outputs": [],
   "source": [
    "d = {'a':1,'b':2,'c':3}"
   ]
  },
  {
   "cell_type": "code",
   "execution_count": null,
   "id": "31b90c18-34f3-4ef7-9005-a2fbc3fac3a5",
   "metadata": {},
   "outputs": [],
   "source": [
    "d['a']"
   ]
  },
  {
   "cell_type": "code",
   "execution_count": null,
   "id": "5abbf43a-bead-415b-a0f0-d92576a07aee",
   "metadata": {},
   "outputs": [],
   "source": [
    "d['b']"
   ]
  },
  {
   "cell_type": "code",
   "execution_count": null,
   "id": "a74397b2-fbf9-4a2f-9e69-13e96cb8d97a",
   "metadata": {},
   "outputs": [],
   "source": [
    "d = {'k1':[1,2,3]}"
   ]
  },
  {
   "cell_type": "code",
   "execution_count": null,
   "id": "f52d0a36-b190-4bca-852a-0c131039b08d",
   "metadata": {},
   "outputs": [],
   "source": [
    "d['k1'][0]"
   ]
  },
  {
   "cell_type": "code",
   "execution_count": null,
   "id": "3d977607-a76c-4dc5-96ee-166c7f55f80a",
   "metadata": {},
   "outputs": [],
   "source": [
    "d1 = {'k1': {'k2':[2,3,4]}}"
   ]
  },
  {
   "cell_type": "code",
   "execution_count": null,
   "id": "7f6a5c0e-89c2-42d1-acf6-bdf16ea305f4",
   "metadata": {},
   "outputs": [],
   "source": [
    "d1['k1']['k2'][0]"
   ]
  },
  {
   "cell_type": "code",
   "execution_count": null,
   "id": "8d3b9954-650e-4777-961e-297486ae5daa",
   "metadata": {},
   "outputs": [],
   "source": [
    "True"
   ]
  },
  {
   "cell_type": "code",
   "execution_count": null,
   "id": "9a74e238-b0e2-4603-af88-5b37e4743e69",
   "metadata": {},
   "outputs": [],
   "source": [
    "False"
   ]
  },
  {
   "cell_type": "code",
   "execution_count": null,
   "id": "2ad70ede-4e2a-42a4-ba8c-6434fafec809",
   "metadata": {},
   "outputs": [],
   "source": [
    "my_tuple = (1,2,3,4)"
   ]
  },
  {
   "cell_type": "code",
   "execution_count": null,
   "id": "907fd462-6d6e-4269-bd21-dd34952a7860",
   "metadata": {},
   "outputs": [],
   "source": [
    "my_tuple[1]"
   ]
  },
  {
   "cell_type": "code",
   "execution_count": null,
   "id": "dda8d2dd-4a52-4f7d-bfce-43e2063b53b6",
   "metadata": {},
   "outputs": [],
   "source": [
    "my_set ={1,2,3}"
   ]
  },
  {
   "cell_type": "code",
   "execution_count": null,
   "id": "c5132804-5a5d-4f8f-afea-0ebe6efa3715",
   "metadata": {},
   "outputs": [],
   "source": [
    "my_set"
   ]
  },
  {
   "cell_type": "code",
   "execution_count": null,
   "id": "8d3538dd-4c33-4ac7-bc39-58a0ce444e6f",
   "metadata": {},
   "outputs": [],
   "source": [
    "my_set = {1,2,3,4,4,4,3,3,3,2,1,1,1}\n",
    "my_set"
   ]
  },
  {
   "cell_type": "code",
   "execution_count": null,
   "id": "b8aab5eb-e183-430d-b5d8-a44d0e38fb4a",
   "metadata": {},
   "outputs": [],
   "source": [
    "set([1,2,22,22,22,3,3,4,5,6,6,6])"
   ]
  },
  {
   "cell_type": "code",
   "execution_count": null,
   "id": "bf21d728-d202-4f66-a97e-d4ce9e939f1e",
   "metadata": {},
   "outputs": [],
   "source": [
    "s ={1,2,3,4}\n",
    "s.add(5)\n",
    "s"
   ]
  },
  {
   "cell_type": "code",
   "execution_count": null,
   "id": "37ab0254-17f7-49dd-9a4f-aa482f0c3ccf",
   "metadata": {},
   "outputs": [],
   "source": [
    "1>2"
   ]
  },
  {
   "cell_type": "code",
   "execution_count": null,
   "id": "19264a47-549e-4b5f-a059-6294ef9f29c3",
   "metadata": {},
   "outputs": [],
   "source": [
    "2<3"
   ]
  },
  {
   "cell_type": "code",
   "execution_count": null,
   "id": "d6114731-3585-4136-9760-3d932db05fdd",
   "metadata": {},
   "outputs": [],
   "source": [
    "1==1"
   ]
  },
  {
   "cell_type": "code",
   "execution_count": null,
   "id": "0d72e03d-7c02-4549-9297-5f8f738dcd47",
   "metadata": {},
   "outputs": [],
   "source": [
    "5!=6"
   ]
  },
  {
   "cell_type": "code",
   "execution_count": null,
   "id": "3b418d3c-7c73-4ffb-b0e4-74f785070d31",
   "metadata": {},
   "outputs": [],
   "source": [
    "'hi' == 'bye'"
   ]
  },
  {
   "cell_type": "code",
   "execution_count": null,
   "id": "07ffeea3-7163-45b2-90b6-3d35ba7b40f5",
   "metadata": {},
   "outputs": [],
   "source": [
    "1<2 and 2<3"
   ]
  },
  {
   "cell_type": "code",
   "execution_count": null,
   "id": "ec7cbb9c-e53e-4947-840c-dbf2e638f3f1",
   "metadata": {},
   "outputs": [],
   "source": [
    "1<2 or 5>6"
   ]
  },
  {
   "cell_type": "code",
   "execution_count": null,
   "id": "4fc747bd-aa72-40dc-ac29-927b258392c5",
   "metadata": {},
   "outputs": [],
   "source": [
    "1<2 and 2>3"
   ]
  },
  {
   "cell_type": "code",
   "execution_count": null,
   "id": "1afe8643-bd64-40ad-a19c-bab2c6a33be6",
   "metadata": {},
   "outputs": [],
   "source": [
    "if (1<3):\n",
    "    print ('yes')"
   ]
  },
  {
   "cell_type": "code",
   "execution_count": null,
   "id": "0ae0459c-ac59-4705-b59f-284cb8f6794f",
   "metadata": {},
   "outputs": [],
   "source": [
    "if (1==4):\n",
    "    print('yes')\n",
    "else:\n",
    "    print('NO')"
   ]
  },
  {
   "cell_type": "code",
   "execution_count": null,
   "id": "32841edf-d18d-43eb-a279-9165228cbee3",
   "metadata": {},
   "outputs": [],
   "source": [
    "if (1==4):\n",
    "    print('yes')\n",
    "elif(3==3):\n",
    "    print('mid')\n",
    "else:\n",
    "    print('NO')"
   ]
  },
  {
   "cell_type": "code",
   "execution_count": null,
   "id": "3447a5ee-6fce-411f-8248-f3586844ab59",
   "metadata": {},
   "outputs": [],
   "source": [
    "seq =[1,2,3,4,5]\n",
    "for i in seq:\n",
    "    print('tree')"
   ]
  },
  {
   "cell_type": "code",
   "execution_count": null,
   "id": "052f36b2-ad41-48e4-ad25-f7c20cf09490",
   "metadata": {},
   "outputs": [],
   "source": [
    "i=1\n",
    "while i <4:\n",
    "    print('tree')\n",
    "    i =i +1"
   ]
  },
  {
   "cell_type": "code",
   "execution_count": null,
   "id": "5b1329b0-5347-40f4-906b-fe14af3f346c",
   "metadata": {},
   "outputs": [],
   "source": [
    "for i in range(1,9,2):\n",
    "    print(i)"
   ]
  },
  {
   "cell_type": "code",
   "execution_count": null,
   "id": "538f76c0-bd94-4c0a-ba59-b3229f714e2a",
   "metadata": {},
   "outputs": [],
   "source": [
    "list(range(0,5))"
   ]
  },
  {
   "cell_type": "code",
   "execution_count": null,
   "id": "12d19d3f-842d-4d2c-a662-32774d36843b",
   "metadata": {},
   "outputs": [],
   "source": [
    "x = [1,2,3,4]\n",
    "out =[]\n",
    "for i in x:\n",
    "    out.append(i)"
   ]
  },
  {
   "cell_type": "code",
   "execution_count": null,
   "id": "5c1c4186-258a-4dc5-8e81-66152b1d81d1",
   "metadata": {},
   "outputs": [],
   "source": [
    "out"
   ]
  },
  {
   "cell_type": "code",
   "execution_count": null,
   "id": "57a51910-b383-4375-9780-8ad4a1613693",
   "metadata": {},
   "outputs": [],
   "source": [
    "[x in range(4)]"
   ]
  },
  {
   "cell_type": "code",
   "execution_count": null,
   "id": "4507836d-d1a2-445a-910b-814ac80c93b7",
   "metadata": {},
   "outputs": [],
   "source": [
    "[i**2 for i in x]"
   ]
  },
  {
   "cell_type": "code",
   "execution_count": null,
   "id": "7aae67c5-e8d6-4280-9df2-9ddd363e2a8d",
   "metadata": {},
   "outputs": [],
   "source": [
    "def first_function(param1):\n",
    "    print(param1)\n",
    "first_function('hello')"
   ]
  },
  {
   "cell_type": "code",
   "execution_count": null,
   "id": "995b758b-3ac8-485c-8aef-bd72ba3213b1",
   "metadata": {},
   "outputs": [],
   "source": [
    "def first_function(name):\n",
    "    print('hello'+name)\n",
    "first_function('vikrant')"
   ]
  },
  {
   "cell_type": "code",
   "execution_count": null,
   "id": "4555b1f8-ad46-4cc2-81bd-6788e774f0f6",
   "metadata": {},
   "outputs": [],
   "source": [
    "def first_function(name='default_name'):\n",
    "    print('hello'+name)\n",
    "first_function()"
   ]
  },
  {
   "cell_type": "code",
   "execution_count": null,
   "id": "ae2a86e4-dff4-408f-9fd9-3c352463acd2",
   "metadata": {},
   "outputs": [],
   "source": [
    "def square(num):\n",
    "    return num**2\n",
    "square(2)"
   ]
  },
  {
   "cell_type": "code",
   "execution_count": null,
   "id": "a803b83b-d003-4189-834b-794ba49fc075",
   "metadata": {},
   "outputs": [],
   "source": [
    "def square(num):\n",
    "    \"\"\"\n",
    "    This is Docstring.\n",
    "    it can take multiple lines\n",
    "    giant string of comment\n",
    "    \"\"\"\n",
    "    return num**2\n",
    "square(2)"
   ]
  },
  {
   "cell_type": "code",
   "execution_count": null,
   "id": "452aa172-8551-4e00-adf6-7bdc24c552cd",
   "metadata": {},
   "outputs": [],
   "source": [
    "square"
   ]
  },
  {
   "cell_type": "code",
   "execution_count": null,
   "id": "4e94d636-8c48-4fb1-a8d0-55d8cf989c66",
   "metadata": {},
   "outputs": [],
   "source": [
    "def times_2(x):\n",
    "    return x*2\n",
    "times_2(10)"
   ]
  },
  {
   "cell_type": "code",
   "execution_count": null,
   "id": "d1c78958-8780-4236-b010-964048009563",
   "metadata": {},
   "outputs": [],
   "source": [
    "# Map() a function with a datatype"
   ]
  },
  {
   "cell_type": "code",
   "execution_count": null,
   "id": "3440193a-a04a-4804-b8ef-a32e2fa570a6",
   "metadata": {},
   "outputs": [],
   "source": [
    "seq = [1,2,3,4,5]"
   ]
  },
  {
   "cell_type": "code",
   "execution_count": null,
   "id": "7381419f-356a-45ed-b6b1-7788ea181f91",
   "metadata": {},
   "outputs": [],
   "source": [
    "map(times_2,seq)"
   ]
  },
  {
   "cell_type": "code",
   "execution_count": null,
   "id": "624c941a-a3fe-4ec5-806e-7dfb13190c6d",
   "metadata": {},
   "outputs": [],
   "source": [
    "list(map(times_2,seq))"
   ]
  },
  {
   "cell_type": "code",
   "execution_count": null,
   "id": "9abfeb52-4a8e-46b5-912b-50e8d7205523",
   "metadata": {},
   "outputs": [],
   "source": [
    "t = lambda var: var*3"
   ]
  },
  {
   "cell_type": "code",
   "execution_count": null,
   "id": "532f419b-4b48-4b32-842d-1f679dae4bfe",
   "metadata": {},
   "outputs": [],
   "source": [
    "t(3)"
   ]
  },
  {
   "cell_type": "code",
   "execution_count": null,
   "id": "8d53b83c-5bca-4569-b725-1987c6fd47d2",
   "metadata": {},
   "outputs": [],
   "source": [
    "list(map(lambda var: var*3,seq))"
   ]
  },
  {
   "cell_type": "code",
   "execution_count": null,
   "id": "bcaaa685-0689-4fcc-8e53-ac87ed39d24d",
   "metadata": {},
   "outputs": [],
   "source": [
    "list(filter(lambda x: x%2==0,seq))"
   ]
  },
  {
   "cell_type": "code",
   "execution_count": null,
   "id": "9e2640c2-acd0-4762-882b-e899e3779c8e",
   "metadata": {},
   "outputs": [],
   "source": [
    "s = 'hello my name is VIkrant'\n",
    "s.lower()"
   ]
  },
  {
   "cell_type": "code",
   "execution_count": null,
   "id": "ec7ea618-dcec-422e-8ab8-3b178ec5c34d",
   "metadata": {},
   "outputs": [],
   "source": [
    "s.upper()"
   ]
  },
  {
   "cell_type": "code",
   "execution_count": null,
   "id": "05948781-b4a9-42c8-b2db-6d7fc37f7200",
   "metadata": {},
   "outputs": [],
   "source": [
    "s.split()"
   ]
  },
  {
   "cell_type": "code",
   "execution_count": null,
   "id": "405a632c-d081-4452-ae70-3a9b4e9f1731",
   "metadata": {},
   "outputs": [],
   "source": [
    "tweet = 'Go sports! #sports'\n",
    "tweet.split()"
   ]
  },
  {
   "cell_type": "code",
   "execution_count": null,
   "id": "1992d7b5-5c09-4c90-9824-cb7e14a9f0fb",
   "metadata": {},
   "outputs": [],
   "source": [
    "tweet.split('#')"
   ]
  },
  {
   "cell_type": "code",
   "execution_count": null,
   "id": "81f5ae6d-fc7c-4cc5-b76b-9f247a948bb7",
   "metadata": {},
   "outputs": [],
   "source": [
    "d = {'k11':1, 'k22':2}"
   ]
  },
  {
   "cell_type": "code",
   "execution_count": null,
   "id": "c439645a-f7be-45fa-9d1e-841f3602965d",
   "metadata": {},
   "outputs": [],
   "source": [
    "d.keys()"
   ]
  },
  {
   "cell_type": "code",
   "execution_count": null,
   "id": "697440d4-702c-4f16-8f99-d22ae8789365",
   "metadata": {},
   "outputs": [],
   "source": [
    "d.items()"
   ]
  },
  {
   "cell_type": "code",
   "execution_count": null,
   "id": "e911a42b-ec4d-4341-8204-8e28f722d76c",
   "metadata": {},
   "outputs": [],
   "source": [
    "d.values()"
   ]
  },
  {
   "cell_type": "code",
   "execution_count": null,
   "id": "6e3b8ee5-c134-4a80-b785-87eaa1470c45",
   "metadata": {},
   "outputs": [],
   "source": [
    "list =[1,2,3,4,5,6,7,8]\n",
    "list.pop()\n",
    "list"
   ]
  },
  {
   "cell_type": "code",
   "execution_count": null,
   "id": "840a5d2b-3606-4deb-9063-aff60a869d9a",
   "metadata": {},
   "outputs": [],
   "source": [
    "list =[1,2,3,4,5,6,7,8]\n",
    "item=list.pop()\n",
    "list"
   ]
  },
  {
   "cell_type": "code",
   "execution_count": null,
   "id": "cbb06fa0-c603-452f-8a0e-5475e86250cd",
   "metadata": {},
   "outputs": [],
   "source": [
    "item"
   ]
  },
  {
   "cell_type": "code",
   "execution_count": null,
   "id": "6ebee264-6423-41d6-945a-1a8339463e1a",
   "metadata": {},
   "outputs": [],
   "source": [
    "item1='New'\n",
    "list.append(item1)\n",
    "list"
   ]
  },
  {
   "cell_type": "code",
   "execution_count": null,
   "id": "c8a3a9d0-102c-4862-9924-8ff19c382914",
   "metadata": {},
   "outputs": [],
   "source": [
    "## in operator"
   ]
  },
  {
   "cell_type": "code",
   "execution_count": null,
   "id": "7c522086-0259-4785-99ae-d2d9cb13502e",
   "metadata": {},
   "outputs": [],
   "source": [
    "'x' in [1,2,3]"
   ]
  },
  {
   "cell_type": "code",
   "execution_count": null,
   "id": "0067feba-527f-4005-98d3-c1efafbdfce5",
   "metadata": {},
   "outputs": [],
   "source": [
    "'x' in ['x','y','z']"
   ]
  },
  {
   "cell_type": "code",
   "execution_count": null,
   "id": "5f41c545-e486-48d3-914e-aacd40c15058",
   "metadata": {},
   "outputs": [],
   "source": [
    "##Tuple Unpacking"
   ]
  },
  {
   "cell_type": "code",
   "execution_count": null,
   "id": "e53ff8a1-be3c-4ea5-8152-28ab14306ed5",
   "metadata": {},
   "outputs": [],
   "source": [
    "x =[(1,2),(3,4),(5,6)]"
   ]
  },
  {
   "cell_type": "code",
   "execution_count": null,
   "id": "d52ddb01-2901-4f2c-9fd4-191db4a7239e",
   "metadata": {},
   "outputs": [],
   "source": [
    "x[0]"
   ]
  },
  {
   "cell_type": "code",
   "execution_count": null,
   "id": "06731389-c6f8-4787-93ec-d21d600353cc",
   "metadata": {},
   "outputs": [],
   "source": [
    "x[0][0]"
   ]
  },
  {
   "cell_type": "code",
   "execution_count": null,
   "id": "8a4f6c26-67d8-4954-b496-3fb4dfb8d29c",
   "metadata": {},
   "outputs": [],
   "source": [
    "for item in x:\n",
    "    print(item)"
   ]
  },
  {
   "cell_type": "code",
   "execution_count": null,
   "id": "2b7a989e-27c4-4812-bf16-a31c5cfa80c8",
   "metadata": {},
   "outputs": [],
   "source": [
    "for a,b in x:\n",
    "    print(a)"
   ]
  },
  {
   "cell_type": "code",
   "execution_count": null,
   "id": "a756935e-0d3d-4ce6-b709-655d1c42a7de",
   "metadata": {},
   "outputs": [],
   "source": [
    "for (a,b) in x:\n",
    "    print(b)"
   ]
  },
  {
   "cell_type": "code",
   "execution_count": null,
   "id": "c3d39c7a-b54c-45e4-b6f8-7632a66ee258",
   "metadata": {},
   "outputs": [],
   "source": [
    "tweet1 = 'Go sports! #sports'\n",
    "tweet1.split('#')[1]"
   ]
  },
  {
   "cell_type": "code",
   "execution_count": null,
   "id": "6eee198f-4f57-4894-9cca-f35e88ed14ce",
   "metadata": {},
   "outputs": [],
   "source": [
    "x[1]"
   ]
  },
  {
   "cell_type": "code",
   "execution_count": 106,
   "id": "8ebe2d85-e98e-4b1c-a280-c026f436a692",
   "metadata": {},
   "outputs": [
    {
     "name": "stdout",
     "output_type": "stream",
     "text": [
      "['soup', 'salad']\n"
     ]
    }
   ],
   "source": [
    "# Correct code to filter words starting with 's'\n",
    "seq = ['soup', 'dog', 'salad', 'cat', 'great']\n",
    "\n",
    "# Using filter and lambda to filter words starting with 's'\n",
    "filtered_list = list(filter(lambda word: word[0] == 's', seq))\n",
    "\n",
    "# Output the filtered list\n",
    "print(filtered_list)  # Output: ['soup', 'salad']\n"
   ]
  },
  {
   "cell_type": "code",
   "execution_count": null,
   "id": "36cc581b-48fb-41d0-8e51-bc9abfb93daa",
   "metadata": {},
   "outputs": [],
   "source": []
  }
 ],
 "metadata": {
  "kernelspec": {
   "display_name": "Python 3 (ipykernel)",
   "language": "python",
   "name": "python3"
  },
  "language_info": {
   "codemirror_mode": {
    "name": "ipython",
    "version": 3
   },
   "file_extension": ".py",
   "mimetype": "text/x-python",
   "name": "python",
   "nbconvert_exporter": "python",
   "pygments_lexer": "ipython3",
   "version": "3.12.4"
  }
 },
 "nbformat": 4,
 "nbformat_minor": 5
}
